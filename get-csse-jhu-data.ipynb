{
 "cells": [
  {
   "cell_type": "markdown",
   "metadata": {},
   "source": [
    "# CSSE John Hopkins University \n",
    "\n",
    "Utilities to import Covid-19 data from CSSE JHU source.\n",
    "\n",
    "The DB structure is created with SQLAlchemy. Currently I have only tested it with SQLite3 but it should work fine with any of the supported engines (MySQL, Postgres, Oracle, SQL Server)."
   ]
  },
  {
   "cell_type": "code",
   "execution_count": 1,
   "metadata": {},
   "outputs": [],
   "source": [
    "import pandas as pd\n",
    "import numpy as np\n",
    "import matplotlib.pyplot as plt"
   ]
  },
  {
   "cell_type": "code",
   "execution_count": 2,
   "metadata": {},
   "outputs": [],
   "source": [
    "import os\n",
    "import sys\n",
    "from sqlalchemy import Column, ForeignKey, Integer, String\n",
    "from sqlalchemy.ext.declarative import declarative_base\n",
    "from sqlalchemy.orm import relationship\n",
    "from sqlalchemy import create_engine"
   ]
  },
  {
   "cell_type": "markdown",
   "metadata": {},
   "source": [
    "## Some minimal variables"
   ]
  },
  {
   "cell_type": "code",
   "execution_count": 3,
   "metadata": {},
   "outputs": [],
   "source": [
    "data_dir='/Users/max4946/DEVEL/COVID-19/csse_covid_19_data/csse_covid_19_daily_reports'\n",
    "base_dir=os.getcwd()\n",
    "db_name=\"covid\""
   ]
  },
  {
   "cell_type": "markdown",
   "metadata": {},
   "source": [
    "## DB Structure"
   ]
  },
  {
   "cell_type": "code",
   "execution_count": 4,
   "metadata": {},
   "outputs": [],
   "source": [
    "from sqlalchemy.ext.declarative import declarative_base\n",
    "from sqlalchemy import Column, Integer, String, Date\n",
    "from sqlalchemy import ForeignKey\n",
    "from sqlalchemy.orm import relationship\n",
    "from sqlalchemy.schema import UniqueConstraint\n",
    "from sqlalchemy import create_engine\n",
    "from sqlalchemy.orm import sessionmaker\n",
    "\n",
    "engine = create_engine('sqlite:///{}/{}.sqlite3'.format(base_dir,\n",
    "            db_name), echo=False) # Move this to your liking for different engine\n",
    "Session = sessionmaker(bind=engine)\n",
    "\n",
    "# import logging\n",
    "\n",
    "# logging.basicConfig()\n",
    "# logging.getLogger('sqlalchemy.engine').setLevel(logging.FATAL)\n",
    "\n",
    "Base = declarative_base()\n",
    "\n",
    "class City(Base):\n",
    "    __tablename__ = 'city_table'\n",
    "\n",
    "    id = Column(Integer, primary_key=True)\n",
    "    state_id = Column(Integer, ForeignKey('state_table.id'),\n",
    "        nullable=False)\n",
    "    \n",
    "    name = Column(String)\n",
    "    short_name = Column(String)\n",
    "  \n",
    "    state = relationship(\"State\")\n",
    "\n",
    "    def __repr__(self):\n",
    "        return \"<City(name='%s', short_name='%s')>\" % (\n",
    "                            self.name, self.short_name)\n",
    "\n",
    "\n",
    "class State(Base):\n",
    "    __tablename__ = 'state_table'\n",
    "\n",
    "    id = Column(Integer, primary_key=True, nullable=False)\n",
    "    country_id = Column(Integer, ForeignKey('country_table.id'),\n",
    "        nullable=False)\n",
    "\n",
    "    name = Column(String)\n",
    "    short_name = Column(String)\n",
    "\n",
    "    country = relationship(\"Country\")\n",
    "    \n",
    "    def __repr__(self):\n",
    "        return \"<State(name='%s', short_name='%s')>\" % (\n",
    "                            self.name, self.short_name)\n",
    "\n",
    "    \n",
    "class Country(Base):\n",
    "    __tablename__ = 'country_table'\n",
    "\n",
    "    id = Column(Integer, primary_key=True)\n",
    "    name = Column(String, nullable=False, unique=True)\n",
    "    short_name = Column(String)\n",
    "    nickname = Column(String)\n",
    " \n",
    "    \n",
    "    def __repr__(self):\n",
    "        return \"<Country(name='%s', short_name='%s', nickname='%s')>\" % (\n",
    "                            self.name, self.short_name, self.nickname)\n",
    "\n",
    "    \n",
    "class DailyData(Base):\n",
    "    __tablename__ = 'daily_data'\n",
    "    __table_args__ = (\n",
    "        UniqueConstraint(\"country_id\", \n",
    "                      \"state_id\", \"city_id\", \n",
    "                      \"date\", name = \"location_date_c\" ),\n",
    "    )\n",
    "  \n",
    "    id = Column(Integer, primary_key=True)\n",
    "    \n",
    "    country_id = Column(Integer, ForeignKey('country_table.id'),\n",
    "        nullable=False)\n",
    "    country = relationship(\"Country\")\n",
    "    state_id = Column(Integer, ForeignKey('state_table.id'),\n",
    "        nullable=True)\n",
    "    state = relationship(\"State\")\n",
    "    city_id = Column(Integer, ForeignKey('city_table.id'),\n",
    "        nullable=True)\n",
    "    city = relationship(\"City\")\n",
    "    \n",
    "    date = Column(Date)\n",
    "    confirmed = Column(Integer)\n",
    "    recovered = Column(Integer)\n",
    "    deaths = Column(Integer)"
   ]
  },
  {
   "cell_type": "code",
   "execution_count": 5,
   "metadata": {},
   "outputs": [],
   "source": [
    "#engine"
   ]
  },
  {
   "cell_type": "code",
   "execution_count": 6,
   "metadata": {},
   "outputs": [],
   "source": [
    "#Country.__table__, DailyData.__table__"
   ]
  },
  {
   "cell_type": "markdown",
   "metadata": {},
   "source": [
    "## Create tables on the engine"
   ]
  },
  {
   "cell_type": "code",
   "execution_count": 7,
   "metadata": {},
   "outputs": [],
   "source": [
    "Base.metadata.create_all(engine)"
   ]
  },
  {
   "cell_type": "markdown",
   "metadata": {},
   "source": [
    "## A *range()* function for dates"
   ]
  },
  {
   "cell_type": "code",
   "execution_count": 8,
   "metadata": {},
   "outputs": [],
   "source": [
    "from datetime import timedelta, date\n",
    "\n",
    "def daterange(start_date, end_date):\n",
    "    for n in range(int ((end_date - start_date).days)+1):\n",
    "        yield start_date + timedelta(n)"
   ]
  },
  {
   "cell_type": "markdown",
   "metadata": {},
   "source": [
    "## Data importer *class*"
   ]
  },
  {
   "cell_type": "code",
   "execution_count": 9,
   "metadata": {},
   "outputs": [],
   "source": [
    "import os.path\n",
    "import csv\n",
    "\n",
    "class csse_covid():\n",
    "    \"\"\"Read files from CSSE covid-19 daily report and put it \n",
    "    on a SQL database\"\"\"\n",
    "    def __init__(self, data_dir):\n",
    "        self.start_date = date(2020,5,9)\n",
    "        self.end_date = date.today()\n",
    "        self.data_dir = data_dir\n",
    "\n",
    "    def run(self):\n",
    "        self.read_files(self.start_date, self.end_date)\n",
    "        \n",
    "    def read_files(self, start_date, end_date):\n",
    "        print(start_date, end_date)\n",
    "        for d in daterange(start_date, end_date):\n",
    "            print(\"Date: \", d)\n",
    "            file = \"{}/{}.csv\".format(self.data_dir, \n",
    "                d.strftime(\"%m-%d-%Y\"))\n",
    "            if os.path.exists(file):\n",
    "                data = pd.read_csv(file)\n",
    "                data.fillna(0, inplace=True)\n",
    "                self.to_sql(data, d)\n",
    "            #break\n",
    "    def to_sql(self, data, date):\n",
    "        session = Session()\n",
    "        data.columns = data.columns.str.replace('/',\"_\")\n",
    "        data.columns = data.columns.str.replace(' ',\"_\")\n",
    "        n_cols = len(data.columns)\n",
    "        \n",
    "        for r in data.itertuples():\n",
    "            city = \"\"\n",
    "            state = r.Province_State\n",
    "            \n",
    "            country = r.Country_Region\n",
    "            confirmed = r.Confirmed\n",
    "            recovered = r.Recovered\n",
    "            deaths = r.Deaths\n",
    "\n",
    "            if n_cols == 12:\n",
    "                city = r.Admin2\n",
    "\n",
    "            if state == \"\": # or np.isnan(state):\n",
    "                state = country\n",
    "                city = country\n",
    "            # check/add Country\n",
    "            country_q = session.query(Country).\\\n",
    "                filter(Country.name==country)\n",
    "            if country_q.count() == 0:\n",
    "                new_country = Country(name=country)\n",
    "                session.add(new_country)\n",
    "                session.commit()\n",
    "                session.refresh(new_country)  \n",
    "            elif country_q.count() == 1:\n",
    "                new_country = country_q.first()\n",
    "            # check/add State\n",
    "            state_q = session.query(State).\\\n",
    "                filter(State.name==state).\\\n",
    "                filter(State.country_id==new_country.id)\n",
    "            if state_q.count() == 0:\n",
    "                new_state = State(name=state, country_id=new_country.id)\n",
    "                session.add(new_state)\n",
    "                session.commit()\n",
    "                session.refresh(new_state)\n",
    "            elif state_q.count() == 1:\n",
    "                new_state = state_q.first()\n",
    "            # check/add City\n",
    "            city_q = session.query(City).\\\n",
    "                filter(City.name==city).\\\n",
    "                filter(City.state_id==new_state.id)\n",
    "            if city_q.count() == 0:\n",
    "                new_city = City(name=city, state_id=new_state.id)\n",
    "                session.add(new_city)\n",
    "                session.commit()\n",
    "                session.refresh(new_city)\n",
    "            elif city_q.count() == 1:\n",
    "                new_city = city_q.first()\n",
    "            \n",
    "            daily_data = DailyData(date=date, country_id=new_country.id,\n",
    "                    state_id=new_state.id, city_id=new_city.id, confirmed=confirmed,\n",
    "                    recovered=recovered, deaths=deaths)\n",
    "            try:\n",
    "                session.add(daily_data)\n",
    "                session.commit()\n",
    "                session.refresh(daily_data)\n",
    "                #print(daily_data)\n",
    "            except:\n",
    "                pass\n",
    "                #print(\"Error, likely a duplicated row: {}\".format(daily_data))\n",
    "                session.rollback()\n",
    "\n",
    "\n"
   ]
  },
  {
   "cell_type": "markdown",
   "metadata": {},
   "source": [
    "## Running the importer"
   ]
  },
  {
   "cell_type": "code",
   "execution_count": null,
   "metadata": {},
   "outputs": [
    {
     "name": "stdout",
     "output_type": "stream",
     "text": [
      "2020-05-09 2020-05-10\n",
      "Date:  2020-05-09\n"
     ]
    }
   ],
   "source": [
    "Base.metadata.create_all(engine)\n",
    "reader = csse_covid(data_dir)\n",
    "reader.run()"
   ]
  },
  {
   "cell_type": "markdown",
   "metadata": {},
   "source": [
    "## Very basic testing for the imported data"
   ]
  },
  {
   "cell_type": "code",
   "execution_count": 10,
   "metadata": {},
   "outputs": [],
   "source": [
    "session = Session()\n",
    "q = session.query(DailyData).join(Country).filter(Country.name== \"Mexico\")\n",
    "mx = pd.read_sql(q.statement, q.session.bind, index_col='date', parse_dates=\"date\")\n",
    "mx = mx[[\"confirmed\",\"recovered\",\"deaths\"]].sort_index()\n",
    "#mx.sort_index()"
   ]
  },
  {
   "cell_type": "code",
   "execution_count": 11,
   "metadata": {},
   "outputs": [
    {
     "data": {
      "text/plain": [
       "<matplotlib.axes._subplots.AxesSubplot at 0x11b237d90>"
      ]
     },
     "execution_count": 11,
     "metadata": {},
     "output_type": "execute_result"
    },
    {
     "data": {
      "image/png": "[encoded data removed]",
      "text/plain": [
       "<Figure size 432x288 with 1 Axes>"
      ]
     },
     "metadata": {
      "needs_background": "light"
     },
     "output_type": "display_data"
    }
   ],
   "source": [
    "mx.plot()"
   ]
  },
  {
   "cell_type": "code",
   "execution_count": 75,
   "metadata": {},
   "outputs": [
    {
     "data": {
      "text/plain": [
       "13.877551020408163"
      ]
     },
     "execution_count": 75,
     "metadata": {},
     "output_type": "execute_result"
    }
   ],
   "source": [
    "6800/49000*100"
   ]
  },
  {
   "cell_type": "code",
   "execution_count": 12,
   "metadata": {},
   "outputs": [
    {
     "data": {
      "text/plain": [
       "<matplotlib.axes._subplots.AxesSubplot at 0x11d3eaad0>"
      ]
     },
     "execution_count": 12,
     "metadata": {},
     "output_type": "execute_result"
    },
    {
     "data": {
      "image/png": "[encoded data removed]",
      "text/plain": [
       "<Figure size 432x288 with 1 Axes>"
      ]
     },
     "metadata": {
      "needs_background": "light"
     },
     "output_type": "display_data"
    }
   ],
   "source": [
    "# France\n",
    "session = Session()\n",
    "q = session.query(DailyData).join(Country).filter(Country.name== \"France\")\n",
    "fr = pd.read_sql(q.statement, q.session.bind, index_col='date', parse_dates=\"date\")\n",
    "fr = fr[[\"confirmed\",\"recovered\",\"deaths\"]].sort_index()\n",
    "#fr.sort_index()\n",
    "fr.plot()\n",
    "#mx.plot()"
   ]
  },
  {
   "cell_type": "code",
   "execution_count": 17,
   "metadata": {},
   "outputs": [
    {
     "data": {
      "text/html": [
       "<div>\n",
       "<style scoped>\n",
       "    .dataframe tbody tr th:only-of-type {\n",
       "        vertical-align: middle;\n",
       "    }\n",
       "\n",
       "    .dataframe tbody tr th {\n",
       "        vertical-align: top;\n",
       "    }\n",
       "\n",
       "    .dataframe thead th {\n",
       "        text-align: right;\n",
       "    }\n",
       "</style>\n",
       "<table border=\"1\" class=\"dataframe\">\n",
       "  <thead>\n",
       "    <tr style=\"text-align: right;\">\n",
       "      <th></th>\n",
       "      <th>confirmed</th>\n",
       "      <th>recovered</th>\n",
       "      <th>deaths</th>\n",
       "    </tr>\n",
       "    <tr>\n",
       "      <th>date</th>\n",
       "      <th></th>\n",
       "      <th></th>\n",
       "      <th></th>\n",
       "    </tr>\n",
       "  </thead>\n",
       "  <tbody>\n",
       "    <tr>\n",
       "      <th>2020-01-24</th>\n",
       "      <td>2</td>\n",
       "      <td>0</td>\n",
       "      <td>0</td>\n",
       "    </tr>\n",
       "    <tr>\n",
       "      <th>2020-01-25</th>\n",
       "      <td>3</td>\n",
       "      <td>0</td>\n",
       "      <td>0</td>\n",
       "    </tr>\n",
       "    <tr>\n",
       "      <th>2020-01-26</th>\n",
       "      <td>3</td>\n",
       "      <td>0</td>\n",
       "      <td>0</td>\n",
       "    </tr>\n",
       "    <tr>\n",
       "      <th>2020-01-27</th>\n",
       "      <td>3</td>\n",
       "      <td>0</td>\n",
       "      <td>0</td>\n",
       "    </tr>\n",
       "    <tr>\n",
       "      <th>2020-01-28</th>\n",
       "      <td>4</td>\n",
       "      <td>0</td>\n",
       "      <td>0</td>\n",
       "    </tr>\n",
       "  </tbody>\n",
       "</table>\n",
       "</div>"
      ],
      "text/plain": [
       "            confirmed  recovered  deaths\n",
       "date                                    \n",
       "2020-01-24          2          0       0\n",
       "2020-01-25          3          0       0\n",
       "2020-01-26          3          0       0\n",
       "2020-01-27          3          0       0\n",
       "2020-01-28          4          0       0"
      ]
     },
     "execution_count": 17,
     "metadata": {},
     "output_type": "execute_result"
    }
   ],
   "source": [
    "fr.head()"
   ]
  },
  {
   "cell_type": "code",
   "execution_count": 25,
   "metadata": {},
   "outputs": [
    {
     "data": {
      "text/plain": [
       "<matplotlib.axes._subplots.AxesSubplot at 0x120dcd450>"
      ]
     },
     "execution_count": 25,
     "metadata": {},
     "output_type": "execute_result"
    },
    {
     "data": {
      "image/png": "[encoded data removed]",
      "text/plain": [
       "<Figure size 432x288 with 1 Axes>"
      ]
     },
     "metadata": {
      "needs_background": "light"
     },
     "output_type": "display_data"
    }
   ],
   "source": [
    "fr.groupby(\"date\").sum().diff().plot()"
   ]
  },
  {
   "cell_type": "markdown",
   "metadata": {},
   "source": [
    "# Playground (as usual)"
   ]
  },
  {
   "cell_type": "code",
   "execution_count": 14,
   "metadata": {},
   "outputs": [],
   "source": [
    "#session = Session()"
   ]
  },
  {
   "cell_type": "code",
   "execution_count": 15,
   "metadata": {
    "scrolled": false
   },
   "outputs": [],
   "source": [
    "# test = Country(name='test', short_name='t', nickname='tt')\n",
    "# session.add(test)\n",
    "# session.commit()"
   ]
  },
  {
   "cell_type": "code",
   "execution_count": 16,
   "metadata": {},
   "outputs": [
    {
     "data": {
      "text/plain": [
       "[<Country(name='Taiwan', short_name='None', nickname='None')>,\n",
       " <Country(name='Thailand', short_name='None', nickname='None')>,\n",
       " <Country(name='Tunisia', short_name='None', nickname='None')>,\n",
       " <Country(name='Togo', short_name='None', nickname='None')>,\n",
       " <Country(name='Taipei and environs', short_name='None', nickname='None')>,\n",
       " <Country(name='Taiwan*', short_name='None', nickname='None')>,\n",
       " <Country(name='Turkey', short_name='None', nickname='None')>,\n",
       " <Country(name='Trinidad and Tobago', short_name='None', nickname='None')>,\n",
       " <Country(name='Tanzania', short_name='None', nickname='None')>,\n",
       " <Country(name='The Bahamas', short_name='None', nickname='None')>,\n",
       " <Country(name='The Gambia', short_name='None', nickname='None')>,\n",
       " <Country(name='Timor-Leste', short_name='None', nickname='None')>,\n",
       " <Country(name='Tajikistan', short_name='None', nickname='None')>]"
      ]
     },
     "execution_count": 16,
     "metadata": {},
     "output_type": "execute_result"
    }
   ],
   "source": [
    "session = Session()\n",
    "t = session.query(Country).filter(Country.name.like(\"t%\"))\n",
    "t.all()\n",
    "#session.commit()"
   ]
  },
  {
   "cell_type": "code",
   "execution_count": 17,
   "metadata": {},
   "outputs": [
    {
     "name": "stdout",
     "output_type": "stream",
     "text": [
      "SELECT country_table.id, country_table.name, country_table.short_name, country_table.nickname \n",
      "FROM country_table \n",
      "WHERE country_table.name LIKE :name_1 []\n"
     ]
    }
   ],
   "source": [
    "print(t.statement, list(t.values()))"
   ]
  },
  {
   "cell_type": "code",
   "execution_count": 18,
   "metadata": {},
   "outputs": [],
   "source": [
    "# t.all()"
   ]
  },
  {
   "cell_type": "code",
   "execution_count": 19,
   "metadata": {},
   "outputs": [
    {
     "data": {
      "text/html": [
       "<div>\n",
       "<style scoped>\n",
       "    .dataframe tbody tr th:only-of-type {\n",
       "        vertical-align: middle;\n",
       "    }\n",
       "\n",
       "    .dataframe tbody tr th {\n",
       "        vertical-align: top;\n",
       "    }\n",
       "\n",
       "    .dataframe thead th {\n",
       "        text-align: right;\n",
       "    }\n",
       "</style>\n",
       "<table border=\"1\" class=\"dataframe\">\n",
       "  <thead>\n",
       "    <tr style=\"text-align: right;\">\n",
       "      <th></th>\n",
       "      <th>Province/State</th>\n",
       "      <th>Country/Region</th>\n",
       "      <th>Last Update</th>\n",
       "      <th>Confirmed</th>\n",
       "      <th>Deaths</th>\n",
       "      <th>Recovered</th>\n",
       "    </tr>\n",
       "  </thead>\n",
       "  <tbody>\n",
       "    <tr>\n",
       "      <th>43</th>\n",
       "      <td>NaN</td>\n",
       "      <td>Mexico</td>\n",
       "      <td>1/23/20 17:00</td>\n",
       "      <td>NaN</td>\n",
       "      <td>NaN</td>\n",
       "      <td>NaN</td>\n",
       "    </tr>\n",
       "  </tbody>\n",
       "</table>\n",
       "</div>"
      ],
      "text/plain": [
       "   Province/State Country/Region    Last Update  Confirmed  Deaths  Recovered\n",
       "43            NaN         Mexico  1/23/20 17:00        NaN     NaN        NaN"
      ]
     },
     "execution_count": 19,
     "metadata": {},
     "output_type": "execute_result"
    }
   ],
   "source": [
    "data = pd.read_csv(\"{}/01-23-2020.csv\".format(data_dir))\n",
    "data[data['Country/Region'] == 'Mexico']"
   ]
  },
  {
   "cell_type": "code",
   "execution_count": 46,
   "metadata": {},
   "outputs": [
    {
     "data": {
      "text/html": [
       "<div>\n",
       "<style scoped>\n",
       "    .dataframe tbody tr th:only-of-type {\n",
       "        vertical-align: middle;\n",
       "    }\n",
       "\n",
       "    .dataframe tbody tr th {\n",
       "        vertical-align: top;\n",
       "    }\n",
       "\n",
       "    .dataframe thead th {\n",
       "        text-align: right;\n",
       "    }\n",
       "</style>\n",
       "<table border=\"1\" class=\"dataframe\">\n",
       "  <thead>\n",
       "    <tr style=\"text-align: right;\">\n",
       "      <th></th>\n",
       "      <th>confirmed</th>\n",
       "      <th>recovered</th>\n",
       "      <th>deaths</th>\n",
       "    </tr>\n",
       "    <tr>\n",
       "      <th>date</th>\n",
       "      <th></th>\n",
       "      <th></th>\n",
       "      <th></th>\n",
       "    </tr>\n",
       "  </thead>\n",
       "  <tbody>\n",
       "    <tr>\n",
       "      <th>2020-04-26</th>\n",
       "      <td>14677</td>\n",
       "      <td>8354</td>\n",
       "      <td>1351</td>\n",
       "    </tr>\n",
       "    <tr>\n",
       "      <th>2020-04-27</th>\n",
       "      <td>15529</td>\n",
       "      <td>9086</td>\n",
       "      <td>1434</td>\n",
       "    </tr>\n",
       "    <tr>\n",
       "      <th>2020-04-28</th>\n",
       "      <td>16752</td>\n",
       "      <td>11423</td>\n",
       "      <td>1569</td>\n",
       "    </tr>\n",
       "    <tr>\n",
       "      <th>2020-04-29</th>\n",
       "      <td>17799</td>\n",
       "      <td>11423</td>\n",
       "      <td>1732</td>\n",
       "    </tr>\n",
       "    <tr>\n",
       "      <th>2020-04-30</th>\n",
       "      <td>19224</td>\n",
       "      <td>11423</td>\n",
       "      <td>1859</td>\n",
       "    </tr>\n",
       "  </tbody>\n",
       "</table>\n",
       "</div>"
      ],
      "text/plain": [
       "            confirmed  recovered  deaths\n",
       "date                                    \n",
       "2020-04-26      14677       8354    1351\n",
       "2020-04-27      15529       9086    1434\n",
       "2020-04-28      16752      11423    1569\n",
       "2020-04-29      17799      11423    1732\n",
       "2020-04-30      19224      11423    1859"
      ]
     },
     "execution_count": 46,
     "metadata": {},
     "output_type": "execute_result"
    }
   ],
   "source": [
    "from sqlalchemy import func\n",
    "session = Session()\n",
    "\n",
    "state = \"San Antonio, TX\"\n",
    "q = session.query(DailyData.date,\n",
    "    func.sum(DailyData.confirmed).label('confirmed'),\n",
    "    func.sum(DailyData.recovered).label('recovered'),\n",
    "    func.sum(DailyData.deaths).label('deaths')\n",
    "                 ).join(State).filter(State.name== state).group_by(DailyData.date)\n",
    "data = pd.read_sql(q.statement, q.session.bind, index_col='date', parse_dates=\"date\")\n",
    "data = mx.sort_index()\n",
    "data.tail()"
   ]
  },
  {
   "cell_type": "code",
   "execution_count": 55,
   "metadata": {},
   "outputs": [],
   "source": [
    "data[\"death_pct\"] = data[\"deaths\"] / data[\"confirmed\"] *100"
   ]
  },
  {
   "cell_type": "code",
   "execution_count": 56,
   "metadata": {},
   "outputs": [
    {
     "data": {
      "text/plain": [
       "<matplotlib.axes._subplots.AxesSubplot at 0x11f12fb90>"
      ]
     },
     "execution_count": 56,
     "metadata": {},
     "output_type": "execute_result"
    },
    {
     "data": {
      "image/png": "[encoded data removed]",
      "text/plain": [
       "<Figure size 432x288 with 1 Axes>"
      ]
     },
     "metadata": {
      "needs_background": "light"
     },
     "output_type": "display_data"
    }
   ],
   "source": [
    "data[\"death_pct\"].plot()"
   ]
  },
  {
   "cell_type": "code",
   "execution_count": 53,
   "metadata": {},
   "outputs": [
    {
     "data": {
      "text/plain": [
       "<matplotlib.axes._subplots.AxesSubplot at 0x11e0e2490>"
      ]
     },
     "execution_count": 53,
     "metadata": {},
     "output_type": "execute_result"
    },
    {
     "data": {
      "image/png": "[encoded data removed]",
      "text/plain": [
       "<Figure size 720x360 with 1 Axes>"
      ]
     },
     "metadata": {
      "needs_background": "light"
     },
     "output_type": "display_data"
    }
   ],
   "source": [
    "data[\"confirmed\"].diff().plot(figsize=(10,5), title='{}: Confirmed'.format(state))"
   ]
  },
  {
   "cell_type": "code",
   "execution_count": 54,
   "metadata": {},
   "outputs": [
    {
     "data": {
      "text/plain": [
       "<matplotlib.axes._subplots.AxesSubplot at 0x11d91f9d0>"
      ]
     },
     "execution_count": 54,
     "metadata": {},
     "output_type": "execute_result"
    },
    {
     "data": {
      "image/png": "[encoded data removed]",
      "text/plain": [
       "<Figure size 720x360 with 1 Axes>"
      ]
     },
     "metadata": {
      "needs_background": "light"
     },
     "output_type": "display_data"
    }
   ],
   "source": [
    "data[\"deaths\"].diff().plot(figsize=(10,5), title='{}: Deaths'.format(state))"
   ]
  },
  {
   "cell_type": "code",
   "execution_count": 23,
   "metadata": {},
   "outputs": [
    {
     "data": {
      "text/plain": [
       "2.8120201798640054"
      ]
     },
     "execution_count": 23,
     "metadata": {},
     "output_type": "execute_result"
    }
   ],
   "source": [
    "641/22795*100"
   ]
  },
  {
   "cell_type": "code",
   "execution_count": 24,
   "metadata": {},
   "outputs": [
    {
     "data": {
      "text/plain": [
       "4.96474160596298"
      ]
     },
     "execution_count": 24,
     "metadata": {},
     "output_type": "execute_result"
    }
   ],
   "source": [
    "9385/189033*100"
   ]
  },
  {
   "cell_type": "code",
   "execution_count": 29,
   "metadata": {},
   "outputs": [
    {
     "data": {
      "text/html": [
       "<div>\n",
       "<style scoped>\n",
       "    .dataframe tbody tr th:only-of-type {\n",
       "        vertical-align: middle;\n",
       "    }\n",
       "\n",
       "    .dataframe tbody tr th {\n",
       "        vertical-align: top;\n",
       "    }\n",
       "\n",
       "    .dataframe thead th {\n",
       "        text-align: right;\n",
       "    }\n",
       "</style>\n",
       "<table border=\"1\" class=\"dataframe\">\n",
       "  <thead>\n",
       "    <tr style=\"text-align: right;\">\n",
       "      <th></th>\n",
       "      <th>confirmed</th>\n",
       "      <th>recovered</th>\n",
       "      <th>deaths</th>\n",
       "    </tr>\n",
       "    <tr>\n",
       "      <th>date</th>\n",
       "      <th></th>\n",
       "      <th></th>\n",
       "      <th></th>\n",
       "    </tr>\n",
       "  </thead>\n",
       "  <tbody>\n",
       "    <tr>\n",
       "      <th>2020-04-11</th>\n",
       "      <td>665</td>\n",
       "      <td>0</td>\n",
       "      <td>24</td>\n",
       "    </tr>\n",
       "    <tr>\n",
       "      <th>2020-04-12</th>\n",
       "      <td>723</td>\n",
       "      <td>0</td>\n",
       "      <td>27</td>\n",
       "    </tr>\n",
       "    <tr>\n",
       "      <th>2020-04-13</th>\n",
       "      <td>772</td>\n",
       "      <td>0</td>\n",
       "      <td>30</td>\n",
       "    </tr>\n",
       "    <tr>\n",
       "      <th>2020-04-14</th>\n",
       "      <td>794</td>\n",
       "      <td>0</td>\n",
       "      <td>33</td>\n",
       "    </tr>\n",
       "    <tr>\n",
       "      <th>2020-04-15</th>\n",
       "      <td>815</td>\n",
       "      <td>0</td>\n",
       "      <td>33</td>\n",
       "    </tr>\n",
       "    <tr>\n",
       "      <th>2020-04-16</th>\n",
       "      <td>890</td>\n",
       "      <td>0</td>\n",
       "      <td>37</td>\n",
       "    </tr>\n",
       "    <tr>\n",
       "      <th>2020-04-17</th>\n",
       "      <td>918</td>\n",
       "      <td>0</td>\n",
       "      <td>37</td>\n",
       "    </tr>\n",
       "    <tr>\n",
       "      <th>2020-04-18</th>\n",
       "      <td>959</td>\n",
       "      <td>0</td>\n",
       "      <td>37</td>\n",
       "    </tr>\n",
       "    <tr>\n",
       "      <th>2020-04-19</th>\n",
       "      <td>992</td>\n",
       "      <td>0</td>\n",
       "      <td>38</td>\n",
       "    </tr>\n",
       "    <tr>\n",
       "      <th>2020-04-20</th>\n",
       "      <td>1015</td>\n",
       "      <td>0</td>\n",
       "      <td>39</td>\n",
       "    </tr>\n",
       "    <tr>\n",
       "      <th>2020-04-21</th>\n",
       "      <td>1029</td>\n",
       "      <td>0</td>\n",
       "      <td>39</td>\n",
       "    </tr>\n",
       "    <tr>\n",
       "      <th>2020-04-22</th>\n",
       "      <td>1080</td>\n",
       "      <td>0</td>\n",
       "      <td>39</td>\n",
       "    </tr>\n",
       "    <tr>\n",
       "      <th>2020-04-23</th>\n",
       "      <td>1167</td>\n",
       "      <td>0</td>\n",
       "      <td>43</td>\n",
       "    </tr>\n",
       "    <tr>\n",
       "      <th>2020-04-24</th>\n",
       "      <td>1334</td>\n",
       "      <td>0</td>\n",
       "      <td>43</td>\n",
       "    </tr>\n",
       "    <tr>\n",
       "      <th>2020-04-25</th>\n",
       "      <td>1334</td>\n",
       "      <td>0</td>\n",
       "      <td>43</td>\n",
       "    </tr>\n",
       "    <tr>\n",
       "      <th>2020-04-26</th>\n",
       "      <td>1334</td>\n",
       "      <td>0</td>\n",
       "      <td>43</td>\n",
       "    </tr>\n",
       "    <tr>\n",
       "      <th>2020-04-27</th>\n",
       "      <td>1334</td>\n",
       "      <td>0</td>\n",
       "      <td>43</td>\n",
       "    </tr>\n",
       "    <tr>\n",
       "      <th>2020-04-28</th>\n",
       "      <td>1275</td>\n",
       "      <td>0</td>\n",
       "      <td>44</td>\n",
       "    </tr>\n",
       "    <tr>\n",
       "      <th>2020-04-29</th>\n",
       "      <td>1307</td>\n",
       "      <td>0</td>\n",
       "      <td>44</td>\n",
       "    </tr>\n",
       "    <tr>\n",
       "      <th>2020-04-30</th>\n",
       "      <td>1374</td>\n",
       "      <td>0</td>\n",
       "      <td>48</td>\n",
       "    </tr>\n",
       "  </tbody>\n",
       "</table>\n",
       "</div>"
      ],
      "text/plain": [
       "            confirmed  recovered  deaths\n",
       "date                                    \n",
       "2020-04-11        665          0      24\n",
       "2020-04-12        723          0      27\n",
       "2020-04-13        772          0      30\n",
       "2020-04-14        794          0      33\n",
       "2020-04-15        815          0      33\n",
       "2020-04-16        890          0      37\n",
       "2020-04-17        918          0      37\n",
       "2020-04-18        959          0      37\n",
       "2020-04-19        992          0      38\n",
       "2020-04-20       1015          0      39\n",
       "2020-04-21       1029          0      39\n",
       "2020-04-22       1080          0      39\n",
       "2020-04-23       1167          0      43\n",
       "2020-04-24       1334          0      43\n",
       "2020-04-25       1334          0      43\n",
       "2020-04-26       1334          0      43\n",
       "2020-04-27       1334          0      43\n",
       "2020-04-28       1275          0      44\n",
       "2020-04-29       1307          0      44\n",
       "2020-04-30       1374          0      48"
      ]
     },
     "execution_count": 29,
     "metadata": {},
     "output_type": "execute_result"
    }
   ],
   "source": [
    "from sqlalchemy import func\n",
    "session = Session()\n",
    "data = None\n",
    "city = \"Bexar\"\n",
    "state = \"Texas\"\n",
    "q = session.query(DailyData.date,\n",
    "    func.sum(DailyData.confirmed).label('confirmed'),\n",
    "    func.sum(DailyData.recovered).label('recovered'),\n",
    "    func.sum(DailyData.deaths).label('deaths')).join(City).\\\n",
    "    filter(City.name==city).\\\n",
    "    group_by(DailyData.date)\n",
    "data = pd.read_sql(q.statement, q.session.bind, index_col='date', parse_dates=\"date\")\n",
    "data = data.sort_index()\n",
    "data.tail(20)"
   ]
  },
  {
   "cell_type": "code",
   "execution_count": 30,
   "metadata": {},
   "outputs": [],
   "source": [
    "#data = None\n",
    "#data, city"
   ]
  },
  {
   "cell_type": "code",
   "execution_count": 31,
   "metadata": {},
   "outputs": [
    {
     "data": {
      "text/plain": [
       "<matplotlib.axes._subplots.AxesSubplot at 0x11b181c10>"
      ]
     },
     "execution_count": 31,
     "metadata": {},
     "output_type": "execute_result"
    },
    {
     "data": {
      "image/png": "[encoded data removed]",
      "text/plain": [
       "<Figure size 432x288 with 1 Axes>"
      ]
     },
     "metadata": {
      "needs_background": "light"
     },
     "output_type": "display_data"
    }
   ],
   "source": [
    "data[\"confirmed\"].plot(logy=False)"
   ]
  },
  {
   "cell_type": "code",
   "execution_count": 32,
   "metadata": {},
   "outputs": [
    {
     "data": {
      "text/plain": [
       "<matplotlib.axes._subplots.AxesSubplot at 0x11ac9f5d0>"
      ]
     },
     "execution_count": 32,
     "metadata": {},
     "output_type": "execute_result"
    },
    {
     "data": {
      "image/png": "[encoded data removed]",
      "text/plain": [
       "<Figure size 432x288 with 1 Axes>"
      ]
     },
     "metadata": {
      "needs_background": "light"
     },
     "output_type": "display_data"
    }
   ],
   "source": [
    "data[\"confirmed\"].diff().plot(logy=False)"
   ]
  },
  {
   "cell_type": "code",
   "execution_count": 33,
   "metadata": {},
   "outputs": [
    {
     "data": {
      "text/html": [
       "<div>\n",
       "<style scoped>\n",
       "    .dataframe tbody tr th:only-of-type {\n",
       "        vertical-align: middle;\n",
       "    }\n",
       "\n",
       "    .dataframe tbody tr th {\n",
       "        vertical-align: top;\n",
       "    }\n",
       "\n",
       "    .dataframe thead th {\n",
       "        text-align: right;\n",
       "    }\n",
       "</style>\n",
       "<table border=\"1\" class=\"dataframe\">\n",
       "  <thead>\n",
       "    <tr style=\"text-align: right;\">\n",
       "      <th></th>\n",
       "      <th>Country</th>\n",
       "      <th>id</th>\n",
       "      <th>states</th>\n",
       "    </tr>\n",
       "  </thead>\n",
       "  <tbody>\n",
       "    <tr>\n",
       "      <th>68</th>\n",
       "      <td>Azerbaijan</td>\n",
       "      <td>69</td>\n",
       "      <td>1</td>\n",
       "    </tr>\n",
       "    <tr>\n",
       "      <th>88</th>\n",
       "      <td>Poland</td>\n",
       "      <td>89</td>\n",
       "      <td>1</td>\n",
       "    </tr>\n",
       "    <tr>\n",
       "      <th>67</th>\n",
       "      <td>Ecuador</td>\n",
       "      <td>68</td>\n",
       "      <td>1</td>\n",
       "    </tr>\n",
       "    <tr>\n",
       "      <th>76</th>\n",
       "      <td>Morocco</td>\n",
       "      <td>77</td>\n",
       "      <td>1</td>\n",
       "    </tr>\n",
       "    <tr>\n",
       "      <th>75</th>\n",
       "      <td>Latvia</td>\n",
       "      <td>76</td>\n",
       "      <td>1</td>\n",
       "    </tr>\n",
       "    <tr>\n",
       "      <th>35</th>\n",
       "      <td>Israel</td>\n",
       "      <td>36</td>\n",
       "      <td>2</td>\n",
       "    </tr>\n",
       "    <tr>\n",
       "      <th>36</th>\n",
       "      <td>Lebanon</td>\n",
       "      <td>37</td>\n",
       "      <td>2</td>\n",
       "    </tr>\n",
       "    <tr>\n",
       "      <th>22</th>\n",
       "      <td>Germany</td>\n",
       "      <td>23</td>\n",
       "      <td>2</td>\n",
       "    </tr>\n",
       "    <tr>\n",
       "      <th>42</th>\n",
       "      <td>Austria</td>\n",
       "      <td>43</td>\n",
       "      <td>2</td>\n",
       "    </tr>\n",
       "    <tr>\n",
       "      <th>32</th>\n",
       "      <td>Others</td>\n",
       "      <td>33</td>\n",
       "      <td>2</td>\n",
       "    </tr>\n",
       "    <tr>\n",
       "      <th>37</th>\n",
       "      <td>Iraq</td>\n",
       "      <td>38</td>\n",
       "      <td>2</td>\n",
       "    </tr>\n",
       "    <tr>\n",
       "      <th>52</th>\n",
       "      <td>Denmark</td>\n",
       "      <td>53</td>\n",
       "      <td>4</td>\n",
       "    </tr>\n",
       "    <tr>\n",
       "      <th>54</th>\n",
       "      <td>Netherlands</td>\n",
       "      <td>55</td>\n",
       "      <td>6</td>\n",
       "    </tr>\n",
       "    <tr>\n",
       "      <th>12</th>\n",
       "      <td>Australia</td>\n",
       "      <td>13</td>\n",
       "      <td>12</td>\n",
       "    </tr>\n",
       "    <tr>\n",
       "      <th>16</th>\n",
       "      <td>France</td>\n",
       "      <td>17</td>\n",
       "      <td>13</td>\n",
       "    </tr>\n",
       "    <tr>\n",
       "      <th>133</th>\n",
       "      <td>United Kingdom</td>\n",
       "      <td>134</td>\n",
       "      <td>14</td>\n",
       "    </tr>\n",
       "    <tr>\n",
       "      <th>18</th>\n",
       "      <td>Canada</td>\n",
       "      <td>19</td>\n",
       "      <td>20</td>\n",
       "    </tr>\n",
       "    <tr>\n",
       "      <th>0</th>\n",
       "      <td>Mainland China</td>\n",
       "      <td>1</td>\n",
       "      <td>31</td>\n",
       "    </tr>\n",
       "    <tr>\n",
       "      <th>130</th>\n",
       "      <td>China</td>\n",
       "      <td>131</td>\n",
       "      <td>33</td>\n",
       "    </tr>\n",
       "    <tr>\n",
       "      <th>4</th>\n",
       "      <td>US</td>\n",
       "      <td>5</td>\n",
       "      <td>199</td>\n",
       "    </tr>\n",
       "  </tbody>\n",
       "</table>\n",
       "</div>"
      ],
      "text/plain": [
       "            Country   id  states\n",
       "68       Azerbaijan   69       1\n",
       "88           Poland   89       1\n",
       "67          Ecuador   68       1\n",
       "76          Morocco   77       1\n",
       "75           Latvia   76       1\n",
       "35           Israel   36       2\n",
       "36          Lebanon   37       2\n",
       "22          Germany   23       2\n",
       "42          Austria   43       2\n",
       "32           Others   33       2\n",
       "37             Iraq   38       2\n",
       "52          Denmark   53       4\n",
       "54      Netherlands   55       6\n",
       "12        Australia   13      12\n",
       "16           France   17      13\n",
       "133  United Kingdom  134      14\n",
       "18           Canada   19      20\n",
       "0    Mainland China    1      31\n",
       "130           China  131      33\n",
       "4                US    5     199"
      ]
     },
     "execution_count": 33,
     "metadata": {},
     "output_type": "execute_result"
    }
   ],
   "source": [
    "session = Session()\n",
    "q = session.query(Country.name.label(\"Country\"), Country.id,\n",
    "                 func.count(State.id).label(\"states\")\n",
    "                 ).join(State).group_by(Country.id)\n",
    "states = pd.read_sql(q.statement, q.session.bind)# , index_col='date', parse_dates=\"date\")\n",
    "#states = states[[\"confirmed\",\"recovered\",\"deaths\"]].sort_index()\n",
    "states.sort_values(\"states\").tail(20)"
   ]
  },
  {
   "cell_type": "code",
   "execution_count": 34,
   "metadata": {},
   "outputs": [
    {
     "data": {
      "text/html": [
       "<div>\n",
       "<style scoped>\n",
       "    .dataframe tbody tr th:only-of-type {\n",
       "        vertical-align: middle;\n",
       "    }\n",
       "\n",
       "    .dataframe tbody tr th {\n",
       "        vertical-align: top;\n",
       "    }\n",
       "\n",
       "    .dataframe thead th {\n",
       "        text-align: right;\n",
       "    }\n",
       "</style>\n",
       "<table border=\"1\" class=\"dataframe\">\n",
       "  <thead>\n",
       "    <tr style=\"text-align: right;\">\n",
       "      <th></th>\n",
       "      <th>Country</th>\n",
       "      <th>id</th>\n",
       "      <th>states</th>\n",
       "    </tr>\n",
       "  </thead>\n",
       "  <tbody>\n",
       "    <tr>\n",
       "      <th>118</th>\n",
       "      <td>Taipei and environs</td>\n",
       "      <td>119</td>\n",
       "      <td>1</td>\n",
       "    </tr>\n",
       "    <tr>\n",
       "      <th>151</th>\n",
       "      <td>Antigua and Barbuda</td>\n",
       "      <td>152</td>\n",
       "      <td>1</td>\n",
       "    </tr>\n",
       "    <tr>\n",
       "      <th>152</th>\n",
       "      <td>Aruba</td>\n",
       "      <td>153</td>\n",
       "      <td>1</td>\n",
       "    </tr>\n",
       "    <tr>\n",
       "      <th>153</th>\n",
       "      <td>Kenya</td>\n",
       "      <td>154</td>\n",
       "      <td>1</td>\n",
       "    </tr>\n",
       "    <tr>\n",
       "      <th>154</th>\n",
       "      <td>Uruguay</td>\n",
       "      <td>155</td>\n",
       "      <td>1</td>\n",
       "    </tr>\n",
       "    <tr>\n",
       "      <th>...</th>\n",
       "      <td>...</td>\n",
       "      <td>...</td>\n",
       "      <td>...</td>\n",
       "    </tr>\n",
       "    <tr>\n",
       "      <th>133</th>\n",
       "      <td>United Kingdom</td>\n",
       "      <td>134</td>\n",
       "      <td>14</td>\n",
       "    </tr>\n",
       "    <tr>\n",
       "      <th>18</th>\n",
       "      <td>Canada</td>\n",
       "      <td>19</td>\n",
       "      <td>20</td>\n",
       "    </tr>\n",
       "    <tr>\n",
       "      <th>0</th>\n",
       "      <td>Mainland China</td>\n",
       "      <td>1</td>\n",
       "      <td>31</td>\n",
       "    </tr>\n",
       "    <tr>\n",
       "      <th>130</th>\n",
       "      <td>China</td>\n",
       "      <td>131</td>\n",
       "      <td>33</td>\n",
       "    </tr>\n",
       "    <tr>\n",
       "      <th>4</th>\n",
       "      <td>US</td>\n",
       "      <td>5</td>\n",
       "      <td>199</td>\n",
       "    </tr>\n",
       "  </tbody>\n",
       "</table>\n",
       "<p>237 rows × 3 columns</p>\n",
       "</div>"
      ],
      "text/plain": [
       "                 Country   id  states\n",
       "118  Taipei and environs  119       1\n",
       "151  Antigua and Barbuda  152       1\n",
       "152                Aruba  153       1\n",
       "153                Kenya  154       1\n",
       "154              Uruguay  155       1\n",
       "..                   ...  ...     ...\n",
       "133       United Kingdom  134      14\n",
       "18                Canada   19      20\n",
       "0         Mainland China    1      31\n",
       "130                China  131      33\n",
       "4                     US    5     199\n",
       "\n",
       "[237 rows x 3 columns]"
      ]
     },
     "execution_count": 34,
     "metadata": {},
     "output_type": "execute_result"
    }
   ],
   "source": [
    "states.sort_values(\"states\")"
   ]
  },
  {
   "cell_type": "code",
   "execution_count": 35,
   "metadata": {},
   "outputs": [
    {
     "data": {
      "text/html": [
       "<div>\n",
       "<style scoped>\n",
       "    .dataframe tbody tr th:only-of-type {\n",
       "        vertical-align: middle;\n",
       "    }\n",
       "\n",
       "    .dataframe tbody tr th {\n",
       "        vertical-align: top;\n",
       "    }\n",
       "\n",
       "    .dataframe thead th {\n",
       "        text-align: right;\n",
       "    }\n",
       "</style>\n",
       "<table border=\"1\" class=\"dataframe\">\n",
       "  <thead>\n",
       "    <tr style=\"text-align: right;\">\n",
       "      <th></th>\n",
       "      <th>name</th>\n",
       "      <th>name</th>\n",
       "      <th>id</th>\n",
       "    </tr>\n",
       "  </thead>\n",
       "  <tbody>\n",
       "    <tr>\n",
       "      <th>0</th>\n",
       "      <td>South Korea</td>\n",
       "      <td>0</td>\n",
       "      <td>38</td>\n",
       "    </tr>\n",
       "  </tbody>\n",
       "</table>\n",
       "</div>"
      ],
      "text/plain": [
       "          name name  id\n",
       "0  South Korea    0  38"
      ]
     },
     "execution_count": 35,
     "metadata": {},
     "output_type": "execute_result"
    }
   ],
   "source": [
    "session = Session()\n",
    "q = session.query(Country.name, State.name, State.id).join(State).\\\n",
    "    filter(Country.name == \"South Korea\")\n",
    "\n",
    "states = pd.read_sql(q.statement, q.session.bind)\n",
    "pd.set_option('display.max_rows', None)\n",
    "states"
   ]
  },
  {
   "cell_type": "code",
   "execution_count": null,
   "metadata": {},
   "outputs": [],
   "source": []
  }
 ],
 "metadata": {
  "kernelspec": {
   "display_name": "Python 3",
   "language": "python",
   "name": "python3"
  },
  "language_info": {
   "codemirror_mode": {
    "name": "ipython",
    "version": 3
   },
   "file_extension": ".py",
   "mimetype": "text/x-python",
   "name": "python",
   "nbconvert_exporter": "python",
   "pygments_lexer": "ipython3",
   "version": "3.7.7"
  }
 },
 "nbformat": 4,
 "nbformat_minor": 2
}
